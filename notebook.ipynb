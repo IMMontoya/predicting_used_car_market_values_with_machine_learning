{
 "cells": [
  {
   "cell_type": "markdown",
   "metadata": {},
   "source": [
    "Rusty Bargain used car sales service is developing an app to attract new customers. In that app, you can quickly find out the market value of your car. You have access to historical data: technical specifications, trim versions, and prices. You need to build the model to determine the value. \n",
    "\n",
    "Rusty Bargain is interested in:\n",
    "\n",
    "- the quality of the prediction;\n",
    "- the speed of the prediction;\n",
    "- the time required for training"
   ]
  },
  {
   "cell_type": "code",
   "execution_count": 1,
   "metadata": {},
   "outputs": [],
   "source": [
    "import gc\n",
    "\n",
    "import numpy as np\n",
    "import pandas as pd\n",
    "import matplotlib.pyplot as plt\n",
    "import seaborn as sns\n",
    "from scipy.stats import f_oneway # ANOVA test\n",
    "\n",
    "from sklearn.model_selection import train_test_split\n",
    "from sklearn.preprocessing import StandardScaler\n",
    "from sklearn.linear_model import LinearRegression\n",
    "from sklearn.metrics import mean_squared_error\n",
    "from sklearn.ensemble import RandomForestRegressor\n",
    "from sklearn.model_selection import RandomizedSearchCV"
   ]
  },
  {
   "cell_type": "code",
   "execution_count": 2,
   "metadata": {},
   "outputs": [],
   "source": [
    "def print_missing_values(column):\n",
    "    print(f\"Missing values in the {column.name} column: {column.isna().sum()}, or {column.isna().sum()/len(column)*100:.2f}% of the dataset\")"
   ]
  },
  {
   "cell_type": "markdown",
   "metadata": {},
   "source": [
    "## Data preparation"
   ]
  },
  {
   "cell_type": "code",
   "execution_count": 3,
   "metadata": {},
   "outputs": [],
   "source": [
    "# load the data\n",
    "try:\n",
    "    df = pd.read_csv('data/car_data.csv')\n",
    "except:\n",
    "    df = pd.read_csv('/datasets/car_data.csv')"
   ]
  },
  {
   "cell_type": "code",
   "execution_count": 4,
   "metadata": {},
   "outputs": [
    {
     "name": "stdout",
     "output_type": "stream",
     "text": [
      "<class 'pandas.core.frame.DataFrame'>\n",
      "RangeIndex: 354369 entries, 0 to 354368\n",
      "Data columns (total 16 columns):\n",
      " #   Column             Non-Null Count   Dtype \n",
      "---  ------             --------------   ----- \n",
      " 0   DateCrawled        354369 non-null  object\n",
      " 1   Price              354369 non-null  int64 \n",
      " 2   VehicleType        316879 non-null  object\n",
      " 3   RegistrationYear   354369 non-null  int64 \n",
      " 4   Gearbox            334536 non-null  object\n",
      " 5   Power              354369 non-null  int64 \n",
      " 6   Model              334664 non-null  object\n",
      " 7   Mileage            354369 non-null  int64 \n",
      " 8   RegistrationMonth  354369 non-null  int64 \n",
      " 9   FuelType           321474 non-null  object\n",
      " 10  Brand              354369 non-null  object\n",
      " 11  NotRepaired        283215 non-null  object\n",
      " 12  DateCreated        354369 non-null  object\n",
      " 13  NumberOfPictures   354369 non-null  int64 \n",
      " 14  PostalCode         354369 non-null  int64 \n",
      " 15  LastSeen           354369 non-null  object\n",
      "dtypes: int64(7), object(9)\n",
      "memory usage: 43.3+ MB\n"
     ]
    }
   ],
   "source": [
    "df.info()"
   ]
  },
  {
   "cell_type": "code",
   "execution_count": 5,
   "metadata": {},
   "outputs": [
    {
     "data": {
      "text/html": [
       "<div>\n",
       "<style scoped>\n",
       "    .dataframe tbody tr th:only-of-type {\n",
       "        vertical-align: middle;\n",
       "    }\n",
       "\n",
       "    .dataframe tbody tr th {\n",
       "        vertical-align: top;\n",
       "    }\n",
       "\n",
       "    .dataframe thead th {\n",
       "        text-align: right;\n",
       "    }\n",
       "</style>\n",
       "<table border=\"1\" class=\"dataframe\">\n",
       "  <thead>\n",
       "    <tr style=\"text-align: right;\">\n",
       "      <th></th>\n",
       "      <th>DateCrawled</th>\n",
       "      <th>Price</th>\n",
       "      <th>VehicleType</th>\n",
       "      <th>RegistrationYear</th>\n",
       "      <th>Gearbox</th>\n",
       "      <th>Power</th>\n",
       "      <th>Model</th>\n",
       "      <th>Mileage</th>\n",
       "      <th>RegistrationMonth</th>\n",
       "      <th>FuelType</th>\n",
       "      <th>Brand</th>\n",
       "      <th>NotRepaired</th>\n",
       "      <th>DateCreated</th>\n",
       "      <th>NumberOfPictures</th>\n",
       "      <th>PostalCode</th>\n",
       "      <th>LastSeen</th>\n",
       "    </tr>\n",
       "  </thead>\n",
       "  <tbody>\n",
       "    <tr>\n",
       "      <th>91533</th>\n",
       "      <td>20/03/2016 17:38</td>\n",
       "      <td>3150</td>\n",
       "      <td>sedan</td>\n",
       "      <td>2003</td>\n",
       "      <td>manual</td>\n",
       "      <td>109</td>\n",
       "      <td>3_reihe</td>\n",
       "      <td>125000</td>\n",
       "      <td>8</td>\n",
       "      <td>petrol</td>\n",
       "      <td>peugeot</td>\n",
       "      <td>no</td>\n",
       "      <td>20/03/2016 00:00</td>\n",
       "      <td>0</td>\n",
       "      <td>76437</td>\n",
       "      <td>30/03/2016 09:44</td>\n",
       "    </tr>\n",
       "    <tr>\n",
       "      <th>149857</th>\n",
       "      <td>28/03/2016 22:31</td>\n",
       "      <td>1800</td>\n",
       "      <td>NaN</td>\n",
       "      <td>2017</td>\n",
       "      <td>manual</td>\n",
       "      <td>0</td>\n",
       "      <td>zafira</td>\n",
       "      <td>150000</td>\n",
       "      <td>12</td>\n",
       "      <td>petrol</td>\n",
       "      <td>opel</td>\n",
       "      <td>NaN</td>\n",
       "      <td>28/03/2016 00:00</td>\n",
       "      <td>0</td>\n",
       "      <td>63303</td>\n",
       "      <td>07/04/2016 07:15</td>\n",
       "    </tr>\n",
       "    <tr>\n",
       "      <th>268225</th>\n",
       "      <td>12/03/2016 10:58</td>\n",
       "      <td>4990</td>\n",
       "      <td>small</td>\n",
       "      <td>2005</td>\n",
       "      <td>manual</td>\n",
       "      <td>75</td>\n",
       "      <td>polo</td>\n",
       "      <td>90000</td>\n",
       "      <td>7</td>\n",
       "      <td>petrol</td>\n",
       "      <td>volkswagen</td>\n",
       "      <td>no</td>\n",
       "      <td>12/03/2016 00:00</td>\n",
       "      <td>0</td>\n",
       "      <td>74076</td>\n",
       "      <td>13/03/2016 01:46</td>\n",
       "    </tr>\n",
       "    <tr>\n",
       "      <th>226388</th>\n",
       "      <td>10/03/2016 09:53</td>\n",
       "      <td>2300</td>\n",
       "      <td>sedan</td>\n",
       "      <td>2002</td>\n",
       "      <td>NaN</td>\n",
       "      <td>95</td>\n",
       "      <td>a_klasse</td>\n",
       "      <td>150000</td>\n",
       "      <td>11</td>\n",
       "      <td>gasoline</td>\n",
       "      <td>mercedes_benz</td>\n",
       "      <td>no</td>\n",
       "      <td>10/03/2016 00:00</td>\n",
       "      <td>0</td>\n",
       "      <td>25364</td>\n",
       "      <td>11/03/2016 09:16</td>\n",
       "    </tr>\n",
       "    <tr>\n",
       "      <th>239174</th>\n",
       "      <td>31/03/2016 20:54</td>\n",
       "      <td>1950</td>\n",
       "      <td>NaN</td>\n",
       "      <td>2017</td>\n",
       "      <td>manual</td>\n",
       "      <td>0</td>\n",
       "      <td>lybra</td>\n",
       "      <td>150000</td>\n",
       "      <td>6</td>\n",
       "      <td>gasoline</td>\n",
       "      <td>lancia</td>\n",
       "      <td>NaN</td>\n",
       "      <td>31/03/2016 00:00</td>\n",
       "      <td>0</td>\n",
       "      <td>24161</td>\n",
       "      <td>06/04/2016 15:46</td>\n",
       "    </tr>\n",
       "  </tbody>\n",
       "</table>\n",
       "</div>"
      ],
      "text/plain": [
       "             DateCrawled  Price VehicleType  RegistrationYear Gearbox  Power  \\\n",
       "91533   20/03/2016 17:38   3150       sedan              2003  manual    109   \n",
       "149857  28/03/2016 22:31   1800         NaN              2017  manual      0   \n",
       "268225  12/03/2016 10:58   4990       small              2005  manual     75   \n",
       "226388  10/03/2016 09:53   2300       sedan              2002     NaN     95   \n",
       "239174  31/03/2016 20:54   1950         NaN              2017  manual      0   \n",
       "\n",
       "           Model  Mileage  RegistrationMonth  FuelType          Brand  \\\n",
       "91533    3_reihe   125000                  8    petrol        peugeot   \n",
       "149857    zafira   150000                 12    petrol           opel   \n",
       "268225      polo    90000                  7    petrol     volkswagen   \n",
       "226388  a_klasse   150000                 11  gasoline  mercedes_benz   \n",
       "239174     lybra   150000                  6  gasoline         lancia   \n",
       "\n",
       "       NotRepaired       DateCreated  NumberOfPictures  PostalCode  \\\n",
       "91533           no  20/03/2016 00:00                 0       76437   \n",
       "149857         NaN  28/03/2016 00:00                 0       63303   \n",
       "268225          no  12/03/2016 00:00                 0       74076   \n",
       "226388          no  10/03/2016 00:00                 0       25364   \n",
       "239174         NaN  31/03/2016 00:00                 0       24161   \n",
       "\n",
       "                LastSeen  \n",
       "91533   30/03/2016 09:44  \n",
       "149857  07/04/2016 07:15  \n",
       "268225  13/03/2016 01:46  \n",
       "226388  11/03/2016 09:16  \n",
       "239174  06/04/2016 15:46  "
      ]
     },
     "execution_count": 5,
     "metadata": {},
     "output_type": "execute_result"
    }
   ],
   "source": [
    "df.sample(5)"
   ]
  },
  {
   "cell_type": "code",
   "execution_count": 6,
   "metadata": {},
   "outputs": [
    {
     "name": "stdout",
     "output_type": "stream",
     "text": [
      "Full duplicates: 262, or 0.07% of the dataset\n",
      "Full duplicates: 0, or 0.00% of the dataset\n"
     ]
    }
   ],
   "source": [
    "# Full duplicate count\n",
    "print(f'Full duplicates: {df.duplicated().sum()}, or {df.duplicated().sum()/len(df)*100:.2f}% of the dataset')\n",
    "\n",
    "# Delete duplicates\n",
    "df.drop_duplicates(inplace=True)\n",
    "\n",
    "print(f'Full duplicates: {df.duplicated().sum()}, or {df.duplicated().sum()/len(df)*100:.2f}% of the dataset')"
   ]
  },
  {
   "cell_type": "code",
   "execution_count": 7,
   "metadata": {},
   "outputs": [
    {
     "data": {
      "text/plain": [
       "16"
      ]
     },
     "execution_count": 7,
     "metadata": {},
     "output_type": "execute_result"
    }
   ],
   "source": [
    "# Let's rearrange the columns in a more logical order\n",
    "df = df[['DateCrawled',\n",
    "         'DateCreated',\n",
    "         'LastSeen',\n",
    "         'Brand',\n",
    "         'Model',\n",
    "         'VehicleType',\n",
    "         'Gearbox',\n",
    "         'Power',\n",
    "         'Mileage',\n",
    "         'FuelType',\n",
    "         'NotRepaired',\n",
    "         'RegistrationMonth',\n",
    "         'RegistrationYear',\n",
    "         'PostalCode',\n",
    "         'NumberOfPictures',\n",
    "         'Price']]\n",
    "\n",
    "len(df.columns)"
   ]
  },
  {
   "cell_type": "code",
   "execution_count": 8,
   "metadata": {},
   "outputs": [
    {
     "name": "stdout",
     "output_type": "stream",
     "text": [
      "<class 'pandas.core.frame.DataFrame'>\n",
      "Index: 354107 entries, 0 to 354368\n",
      "Data columns (total 16 columns):\n",
      " #   Column             Non-Null Count   Dtype \n",
      "---  ------             --------------   ----- \n",
      " 0   DateCrawled        354107 non-null  object\n",
      " 1   DateCreated        354107 non-null  object\n",
      " 2   LastSeen           354107 non-null  object\n",
      " 3   Brand              354107 non-null  object\n",
      " 4   Model              334406 non-null  object\n",
      " 5   VehicleType        316623 non-null  object\n",
      " 6   Gearbox            334277 non-null  object\n",
      " 7   Power              354107 non-null  int64 \n",
      " 8   Mileage            354107 non-null  int64 \n",
      " 9   FuelType           321218 non-null  object\n",
      " 10  NotRepaired        282962 non-null  object\n",
      " 11  RegistrationMonth  354107 non-null  int64 \n",
      " 12  RegistrationYear   354107 non-null  int64 \n",
      " 13  PostalCode         354107 non-null  int64 \n",
      " 14  NumberOfPictures   354107 non-null  int64 \n",
      " 15  Price              354107 non-null  int64 \n",
      "dtypes: int64(7), object(9)\n",
      "memory usage: 45.9+ MB\n"
     ]
    }
   ],
   "source": [
    "df.info()"
   ]
  },
  {
   "cell_type": "markdown",
   "metadata": {},
   "source": [
    "None of the date columns (`DateCrawled`, `DateCreated`, `LastSeen`) should be used for training since the data is not available at time of prediction. Let's go ahead and drop them."
   ]
  },
  {
   "cell_type": "code",
   "execution_count": 9,
   "metadata": {},
   "outputs": [],
   "source": [
    "df.drop(['DateCrawled', 'DateCreated', 'LastSeen'], axis=1, inplace=True)"
   ]
  },
  {
   "cell_type": "markdown",
   "metadata": {},
   "source": [
    "### Brand Column"
   ]
  },
  {
   "cell_type": "code",
   "execution_count": 10,
   "metadata": {},
   "outputs": [
    {
     "name": "stdout",
     "output_type": "stream",
     "text": [
      "Missing values in the Brand column: 0, or 0.00% of the dataset\n"
     ]
    },
    {
     "data": {
      "text/plain": [
       "Brand\n",
       "alfa_romeo         2311\n",
       "audi              29439\n",
       "bmw               36881\n",
       "chevrolet          1751\n",
       "chrysler           1439\n",
       "citroen            5143\n",
       "dacia               898\n",
       "daewoo              542\n",
       "daihatsu            806\n",
       "fiat               9634\n",
       "ford              25163\n",
       "honda              2817\n",
       "hyundai            3583\n",
       "jaguar              505\n",
       "jeep                677\n",
       "kia                2463\n",
       "lada                225\n",
       "lancia              471\n",
       "land_rover          545\n",
       "mazda              5611\n",
       "mercedes_benz     32025\n",
       "mini               3201\n",
       "mitsubishi         3022\n",
       "nissan             4936\n",
       "opel              39902\n",
       "peugeot           10988\n",
       "porsche             758\n",
       "renault           17915\n",
       "rover               486\n",
       "saab                526\n",
       "seat               6901\n",
       "skoda              5490\n",
       "smart              5241\n",
       "sonstige_autos     3373\n",
       "subaru              762\n",
       "suzuki             2320\n",
       "toyota             4601\n",
       "trabant             589\n",
       "volkswagen        76960\n",
       "volvo              3207\n",
       "Name: count, dtype: int64"
      ]
     },
     "execution_count": 10,
     "metadata": {},
     "output_type": "execute_result"
    }
   ],
   "source": [
    "print_missing_values(df['Brand'])\n",
    "df['Brand'].value_counts().sort_index() # sort by alphabetical order"
   ]
  },
  {
   "cell_type": "markdown",
   "metadata": {},
   "source": [
    "No missing or unexpected values in the `Brand` column."
   ]
  },
  {
   "cell_type": "markdown",
   "metadata": {},
   "source": [
    "### Model Column"
   ]
  },
  {
   "cell_type": "code",
   "execution_count": 11,
   "metadata": {},
   "outputs": [
    {
     "name": "stdout",
     "output_type": "stream",
     "text": [
      "Missing values in the Model column: 19701, or 5.56% of the dataset\n",
      "['100', '145', '147', '156', '159', '1_reihe', '1er', '200', '2_reihe', '300c', '3_reihe', '3er', '4_reihe', '500', '5_reihe', '5er', '601', '6_reihe', '6er', '7er', '80', '850', '90', '900', '9000', '911', 'a1', 'a2', 'a3', 'a4', 'a5', 'a6', 'a8', 'a_klasse', 'accord', 'agila', 'alhambra', 'almera', 'altea', 'amarok', 'antara', 'arosa', 'astra', 'auris', 'avensis', 'aveo', 'aygo', 'b_klasse', 'b_max', 'beetle', 'berlingo', 'bora', 'boxster', 'bravo', 'c1', 'c2', 'c3', 'c4', 'c5', 'c_klasse', 'c_max', 'c_reihe', 'caddy', 'calibra', 'captiva', 'carisma', 'carnival', 'cayenne', 'cc', 'ceed', 'charade', 'cherokee', 'citigo', 'civic', 'cl', 'clio', 'clk', 'clubman', 'colt', 'combo', 'cooper', 'cordoba', 'corolla', 'corsa', 'cr_reihe', 'croma', 'crossfire', 'cuore', 'cx_reihe', 'defender', 'delta', 'discovery', 'doblo', 'ducato', 'duster', 'e_klasse', 'elefantino', 'eos', 'escort', 'espace', 'exeo', 'fabia', 'fiesta', 'focus', 'forester', 'forfour', 'fortwo', 'fox', 'freelander', 'fusion', 'g_klasse', 'galant', 'galaxy', 'getz', 'gl', 'glk', 'golf', 'grand', 'i3', 'i_reihe', 'ibiza', 'impreza', 'insignia', 'jazz', 'jetta', 'jimny', 'juke', 'justy', 'ka', 'kadett', 'kaefer', 'kalina', 'kalos', 'kangoo', 'kappa', 'kuga', 'laguna', 'lancer', 'lanos', 'legacy', 'leon', 'lodgy', 'logan', 'lupo', 'lybra', 'm_klasse', 'm_reihe', 'materia', 'matiz', 'megane', 'meriva', 'micra', 'mii', 'modus', 'mondeo', 'move', 'musa', 'mustang', 'mx_reihe', 'nan', 'navara', 'niva', 'note', 'nubira', 'octavia', 'omega', 'one', 'other', 'outlander', 'pajero', 'panda', 'passat', 'phaeton', 'picanto', 'polo', 'primera', 'ptcruiser', 'punto', 'q3', 'q5', 'q7', 'qashqai', 'r19', 'range_rover', 'range_rover_evoque', 'range_rover_sport', 'rangerover', 'rav', 'rio', 'roadster', 'roomster', 'rx_reihe', 's60', 's_klasse', 's_max', 's_type', 'samara', 'sandero', 'santa', 'scenic', 'scirocco', 'seicento', 'serie_1', 'serie_2', 'serie_3', 'sharan', 'signum', 'sirion', 'sl', 'slk', 'sorento', 'spark', 'spider', 'sportage', 'sprinter', 'stilo', 'superb', 'swift', 'terios', 'tigra', 'tiguan', 'toledo', 'touareg', 'touran', 'transit', 'transporter', 'tt', 'tucson', 'twingo', 'up', 'v40', 'v50', 'v60', 'v70', 'v_klasse', 'vectra', 'verso', 'viano', 'vito', 'vivaro', 'voyager', 'wrangler', 'x_reihe', 'x_trail', 'x_type', 'xc_reihe', 'yaris', 'yeti', 'ypsilon', 'z_reihe', 'zafira']\n"
     ]
    }
   ],
   "source": [
    "print_missing_values(df['Model'])\n",
    "print(sorted([str(x) for x in df['Model'].unique().tolist()])) # sort by alphabetical order with handling of NaN"
   ]
  },
  {
   "cell_type": "code",
   "execution_count": 12,
   "metadata": {},
   "outputs": [],
   "source": [
    "# There are NaN values, but also values labeled as 'other'. We will combine these into the 'unknown' category since both are a type of catch-all for unknown values.\n",
    "\n",
    "df['Model'].fillna('unknown', inplace=True) # fill NaN values with 'unknown'\n",
    "df['Model'].replace('other', 'unknown', inplace=True) # replace 'other' with 'unknown'"
   ]
  },
  {
   "cell_type": "code",
   "execution_count": 13,
   "metadata": {},
   "outputs": [
    {
     "name": "stdout",
     "output_type": "stream",
     "text": [
      "Missing values in the Model column: 0, or 0.00% of the dataset\n",
      "['100', '145', '147', '156', '159', '1_reihe', '1er', '200', '2_reihe', '300c', '3_reihe', '3er', '4_reihe', '500', '5_reihe', '5er', '601', '6_reihe', '6er', '7er', '80', '850', '90', '900', '9000', '911', 'a1', 'a2', 'a3', 'a4', 'a5', 'a6', 'a8', 'a_klasse', 'accord', 'agila', 'alhambra', 'almera', 'altea', 'amarok', 'antara', 'arosa', 'astra', 'auris', 'avensis', 'aveo', 'aygo', 'b_klasse', 'b_max', 'beetle', 'berlingo', 'bora', 'boxster', 'bravo', 'c1', 'c2', 'c3', 'c4', 'c5', 'c_klasse', 'c_max', 'c_reihe', 'caddy', 'calibra', 'captiva', 'carisma', 'carnival', 'cayenne', 'cc', 'ceed', 'charade', 'cherokee', 'citigo', 'civic', 'cl', 'clio', 'clk', 'clubman', 'colt', 'combo', 'cooper', 'cordoba', 'corolla', 'corsa', 'cr_reihe', 'croma', 'crossfire', 'cuore', 'cx_reihe', 'defender', 'delta', 'discovery', 'doblo', 'ducato', 'duster', 'e_klasse', 'elefantino', 'eos', 'escort', 'espace', 'exeo', 'fabia', 'fiesta', 'focus', 'forester', 'forfour', 'fortwo', 'fox', 'freelander', 'fusion', 'g_klasse', 'galant', 'galaxy', 'getz', 'gl', 'glk', 'golf', 'grand', 'i3', 'i_reihe', 'ibiza', 'impreza', 'insignia', 'jazz', 'jetta', 'jimny', 'juke', 'justy', 'ka', 'kadett', 'kaefer', 'kalina', 'kalos', 'kangoo', 'kappa', 'kuga', 'laguna', 'lancer', 'lanos', 'legacy', 'leon', 'lodgy', 'logan', 'lupo', 'lybra', 'm_klasse', 'm_reihe', 'materia', 'matiz', 'megane', 'meriva', 'micra', 'mii', 'modus', 'mondeo', 'move', 'musa', 'mustang', 'mx_reihe', 'navara', 'niva', 'note', 'nubira', 'octavia', 'omega', 'one', 'outlander', 'pajero', 'panda', 'passat', 'phaeton', 'picanto', 'polo', 'primera', 'ptcruiser', 'punto', 'q3', 'q5', 'q7', 'qashqai', 'r19', 'range_rover', 'range_rover_evoque', 'range_rover_sport', 'rangerover', 'rav', 'rio', 'roadster', 'roomster', 'rx_reihe', 's60', 's_klasse', 's_max', 's_type', 'samara', 'sandero', 'santa', 'scenic', 'scirocco', 'seicento', 'serie_1', 'serie_2', 'serie_3', 'sharan', 'signum', 'sirion', 'sl', 'slk', 'sorento', 'spark', 'spider', 'sportage', 'sprinter', 'stilo', 'superb', 'swift', 'terios', 'tigra', 'tiguan', 'toledo', 'touareg', 'touran', 'transit', 'transporter', 'tt', 'tucson', 'twingo', 'unknown', 'up', 'v40', 'v50', 'v60', 'v70', 'v_klasse', 'vectra', 'verso', 'viano', 'vito', 'vivaro', 'voyager', 'wrangler', 'x_reihe', 'x_trail', 'x_type', 'xc_reihe', 'yaris', 'yeti', 'ypsilon', 'z_reihe', 'zafira']\n"
     ]
    }
   ],
   "source": [
    "print_missing_values(df['Model'])\n",
    "print(sorted(df['Model'].unique().tolist())) # sort by alphabetical order"
   ]
  },
  {
   "cell_type": "markdown",
   "metadata": {},
   "source": [
    "### VehicleType Column"
   ]
  },
  {
   "cell_type": "code",
   "execution_count": 14,
   "metadata": {},
   "outputs": [
    {
     "name": "stdout",
     "output_type": "stream",
     "text": [
      "Missing values in the VehicleType column: 37484, or 10.59% of the dataset\n"
     ]
    }
   ],
   "source": [
    "print_missing_values(df['VehicleType'])"
   ]
  },
  {
   "cell_type": "code",
   "execution_count": 15,
   "metadata": {},
   "outputs": [
    {
     "data": {
      "text/html": [
       "<div>\n",
       "<style scoped>\n",
       "    .dataframe tbody tr th:only-of-type {\n",
       "        vertical-align: middle;\n",
       "    }\n",
       "\n",
       "    .dataframe tbody tr th {\n",
       "        vertical-align: top;\n",
       "    }\n",
       "\n",
       "    .dataframe thead th {\n",
       "        text-align: right;\n",
       "    }\n",
       "</style>\n",
       "<table border=\"1\" class=\"dataframe\">\n",
       "  <thead>\n",
       "    <tr style=\"text-align: right;\">\n",
       "      <th></th>\n",
       "      <th>Brand</th>\n",
       "      <th>Model</th>\n",
       "      <th>VehicleType</th>\n",
       "      <th>Gearbox</th>\n",
       "      <th>Power</th>\n",
       "      <th>Mileage</th>\n",
       "      <th>FuelType</th>\n",
       "      <th>NotRepaired</th>\n",
       "      <th>RegistrationMonth</th>\n",
       "      <th>RegistrationYear</th>\n",
       "      <th>PostalCode</th>\n",
       "      <th>NumberOfPictures</th>\n",
       "      <th>Price</th>\n",
       "    </tr>\n",
       "  </thead>\n",
       "  <tbody>\n",
       "    <tr>\n",
       "      <th>0</th>\n",
       "      <td>volkswagen</td>\n",
       "      <td>golf</td>\n",
       "      <td>NaN</td>\n",
       "      <td>manual</td>\n",
       "      <td>0</td>\n",
       "      <td>150000</td>\n",
       "      <td>petrol</td>\n",
       "      <td>NaN</td>\n",
       "      <td>0</td>\n",
       "      <td>1993</td>\n",
       "      <td>70435</td>\n",
       "      <td>0</td>\n",
       "      <td>480</td>\n",
       "    </tr>\n",
       "    <tr>\n",
       "      <th>16</th>\n",
       "      <td>volkswagen</td>\n",
       "      <td>polo</td>\n",
       "      <td>NaN</td>\n",
       "      <td>NaN</td>\n",
       "      <td>60</td>\n",
       "      <td>150000</td>\n",
       "      <td>petrol</td>\n",
       "      <td>NaN</td>\n",
       "      <td>0</td>\n",
       "      <td>2016</td>\n",
       "      <td>38871</td>\n",
       "      <td>0</td>\n",
       "      <td>300</td>\n",
       "    </tr>\n",
       "    <tr>\n",
       "      <th>22</th>\n",
       "      <td>opel</td>\n",
       "      <td>meriva</td>\n",
       "      <td>NaN</td>\n",
       "      <td>manual</td>\n",
       "      <td>90</td>\n",
       "      <td>150000</td>\n",
       "      <td>petrol</td>\n",
       "      <td>no</td>\n",
       "      <td>5</td>\n",
       "      <td>2018</td>\n",
       "      <td>49716</td>\n",
       "      <td>0</td>\n",
       "      <td>2900</td>\n",
       "    </tr>\n",
       "    <tr>\n",
       "      <th>26</th>\n",
       "      <td>citroen</td>\n",
       "      <td>c4</td>\n",
       "      <td>NaN</td>\n",
       "      <td>manual</td>\n",
       "      <td>125</td>\n",
       "      <td>125000</td>\n",
       "      <td>NaN</td>\n",
       "      <td>no</td>\n",
       "      <td>4</td>\n",
       "      <td>2017</td>\n",
       "      <td>31139</td>\n",
       "      <td>0</td>\n",
       "      <td>5555</td>\n",
       "    </tr>\n",
       "    <tr>\n",
       "      <th>31</th>\n",
       "      <td>renault</td>\n",
       "      <td>clio</td>\n",
       "      <td>NaN</td>\n",
       "      <td>manual</td>\n",
       "      <td>60</td>\n",
       "      <td>150000</td>\n",
       "      <td>petrol</td>\n",
       "      <td>NaN</td>\n",
       "      <td>6</td>\n",
       "      <td>2016</td>\n",
       "      <td>37075</td>\n",
       "      <td>0</td>\n",
       "      <td>899</td>\n",
       "    </tr>\n",
       "  </tbody>\n",
       "</table>\n",
       "</div>"
      ],
      "text/plain": [
       "         Brand   Model VehicleType Gearbox  Power  Mileage FuelType  \\\n",
       "0   volkswagen    golf         NaN  manual      0   150000   petrol   \n",
       "16  volkswagen    polo         NaN     NaN     60   150000   petrol   \n",
       "22        opel  meriva         NaN  manual     90   150000   petrol   \n",
       "26     citroen      c4         NaN  manual    125   125000      NaN   \n",
       "31     renault    clio         NaN  manual     60   150000   petrol   \n",
       "\n",
       "   NotRepaired  RegistrationMonth  RegistrationYear  PostalCode  \\\n",
       "0          NaN                  0              1993       70435   \n",
       "16         NaN                  0              2016       38871   \n",
       "22          no                  5              2018       49716   \n",
       "26          no                  4              2017       31139   \n",
       "31         NaN                  6              2016       37075   \n",
       "\n",
       "    NumberOfPictures  Price  \n",
       "0                  0    480  \n",
       "16                 0    300  \n",
       "22                 0   2900  \n",
       "26                 0   5555  \n",
       "31                 0    899  "
      ]
     },
     "metadata": {},
     "output_type": "display_data"
    }
   ],
   "source": [
    "# display df where missing values are present in the VehicleType column\n",
    "display(df[df['VehicleType'].isnull()].head())"
   ]
  },
  {
   "cell_type": "code",
   "execution_count": 16,
   "metadata": {},
   "outputs": [
    {
     "name": "stdout",
     "output_type": "stream",
     "text": [
      "Total Brand Model combinations: 298\n",
      "\n",
      "Brand, Model combinations with one VehicleType:\n",
      "             Brand               Model  VehicleType\n",
      "33       chevrolet             captiva            1\n",
      "77            ford               b_max            1\n",
      "104           jeep            cherokee            1\n",
      "126     land_rover            defender            1\n",
      "127     land_rover           discovery            1\n",
      "129     land_rover         range_rover            1\n",
      "130     land_rover  range_rover_evoque            1\n",
      "131     land_rover   range_rover_sport            1\n",
      "132     land_rover             serie_1            1\n",
      "134     land_rover             serie_3            1\n",
      "151  mercedes_benz                  gl            1\n",
      "218          rover            defender            1\n",
      "220          rover          freelander            1\n",
      "272     volkswagen                 eos            1\n",
      "279     volkswagen             phaeton            1\n",
      "291          volvo                 s60            1\n",
      "row count: 16\n"
     ]
    }
   ],
   "source": [
    "# Q: Is it possible to pull the `VehicleType` from other rows by matching the `Brand` and `Model` columns?\n",
    "\n",
    "def investigate():\n",
    "    # Group by Brand and Model and count the number of unique VehicleTypes\n",
    "    df_brand_model = df.groupby(['Brand', 'Model'])['VehicleType'].nunique().reset_index()\n",
    "    print(f\"Total Brand Model combinations: {df_brand_model.shape[0]}\")\n",
    "\n",
    "    print()\n",
    "    print('Brand, Model combinations with one VehicleType:')\n",
    "    print(df_brand_model[df_brand_model['VehicleType'] == 1])\n",
    "    print(f\"row count: {df_brand_model[df_brand_model['VehicleType'] == 1].shape[0]}\")\n",
    "    \n",
    "\n",
    "investigate()\n"
   ]
  },
  {
   "cell_type": "markdown",
   "metadata": {},
   "source": [
    "I was hoping I could reliably pull the `VehicleType` from other rows by matching the `Brand` and `Model` columns, but it looks like relatively few instances of the Brand / Model combination result in only one vehicle type.  \n",
    "\n",
    "We will convert this to 'unknown', as well as convert 'other' to 'unknown' for the same reason as in the `Brand` column."
   ]
  },
  {
   "cell_type": "code",
   "execution_count": 17,
   "metadata": {},
   "outputs": [
    {
     "data": {
      "text/plain": [
       "VehicleType\n",
       "sedan          91399\n",
       "small          79753\n",
       "wagon          65115\n",
       "bus            28752\n",
       "convertible    20180\n",
       "coupe          16147\n",
       "suv            11991\n",
       "other           3286\n",
       "Name: count, dtype: int64"
      ]
     },
     "execution_count": 17,
     "metadata": {},
     "output_type": "execute_result"
    }
   ],
   "source": [
    "df['VehicleType'].value_counts()"
   ]
  },
  {
   "cell_type": "code",
   "execution_count": 18,
   "metadata": {},
   "outputs": [
    {
     "name": "stdout",
     "output_type": "stream",
     "text": [
      "Missing values in the VehicleType column: 0, or 0.00% of the dataset\n"
     ]
    }
   ],
   "source": [
    "# Fill missing values with 'unkown'\n",
    "df['VehicleType'].fillna('unknown', inplace=True)\n",
    "\n",
    "# Replace 'other' with 'unknown'\n",
    "df['VehicleType'].replace('other', 'unknown', inplace=True)\n",
    "\n",
    "print_missing_values(df['VehicleType'])\n",
    "\n",
    "df['VehicleType'].value_counts()\n",
    "\n",
    "# Assert there are no rows where both Brand and Model are 'unknown'\n",
    "assert len(df[(df['Brand'] == 'unknown') & (df['Model'] == 'unknown')]) == 0, 'There are rows where both Brand and Model are unknown'"
   ]
  },
  {
   "cell_type": "markdown",
   "metadata": {},
   "source": [
    "### Missing Values - Gearbox"
   ]
  },
  {
   "cell_type": "code",
   "execution_count": 19,
   "metadata": {},
   "outputs": [
    {
     "name": "stdout",
     "output_type": "stream",
     "text": [
      "Missing values in the Gearbox column: 19830, or 5.60% of the dataset\n",
      "Gearbox\n",
      "manual    268034\n",
      "auto       66243\n",
      "Name: count, dtype: int64\n"
     ]
    }
   ],
   "source": [
    "print_missing_values(df['Gearbox'])\n",
    "print(df['Gearbox'].value_counts())"
   ]
  },
  {
   "cell_type": "markdown",
   "metadata": {},
   "source": [
    "There is no reliable way to deduce or guess what Gearbox value should be for missing values, so we simply fill in with 'unknown'."
   ]
  },
  {
   "cell_type": "code",
   "execution_count": 20,
   "metadata": {},
   "outputs": [
    {
     "name": "stdout",
     "output_type": "stream",
     "text": [
      "Missing values in the Gearbox column: 0, or 0.00% of the dataset\n",
      "Gearbox\n",
      "manual     268034\n",
      "auto        66243\n",
      "unknown     19830\n",
      "Name: count, dtype: int64\n"
     ]
    }
   ],
   "source": [
    "# Fill missing values with 'unknown'\n",
    "df['Gearbox'].fillna('unknown', inplace=True)\n",
    "\n",
    "print_missing_values(df['Gearbox'])\n",
    "print(df['Gearbox'].value_counts())"
   ]
  },
  {
   "cell_type": "markdown",
   "metadata": {},
   "source": [
    "### Power Column"
   ]
  },
  {
   "cell_type": "code",
   "execution_count": 21,
   "metadata": {},
   "outputs": [
    {
     "name": "stdout",
     "output_type": "stream",
     "text": [
      "Missing values in the Power column: 0, or 0.00% of the dataset\n",
      "count    354107.000000\n",
      "mean        110.089651\n",
      "std         189.914972\n",
      "min           0.000000\n",
      "25%          69.000000\n",
      "50%         105.000000\n",
      "75%         143.000000\n",
      "max       20000.000000\n",
      "Name: Power, dtype: float64\n"
     ]
    }
   ],
   "source": [
    "print_missing_values(df['Power'])\n",
    "print(df['Power'].describe())"
   ]
  },
  {
   "cell_type": "markdown",
   "metadata": {},
   "source": [
    "There are no missing values, but there are some outliers that seem to be impossible. I don't think there are cars with 0 or 20,000 horsepower. I did some research on horsepower and came away with this:\n",
    "> \"A normal city car might have 90 horsepower, a family hatchback could have 140 horsepower, and midsize cars can have around 200 horsepower. Cars with more than 300 horsepower are usually performance vehicles, and modern supercars can have over 500 horsepower.\""
   ]
  },
  {
   "cell_type": "code",
   "execution_count": 22,
   "metadata": {},
   "outputs": [
    {
     "name": "stdout",
     "output_type": "stream",
     "text": [
      "Rows with a power of 0: 40218, or 11.36% of the dataset\n"
     ]
    }
   ],
   "source": [
    "# How many rows have a power of 0?\n",
    "print(f\"Rows with a power of 0: {df[df['Power'] == 0].shape[0]}, or {df[df['Power'] == 0].shape[0]/len(df)*100:.2f}% of the dataset\")"
   ]
  },
  {
   "cell_type": "code",
   "execution_count": 23,
   "metadata": {},
   "outputs": [
    {
     "name": "stdout",
     "output_type": "stream",
     "text": [
      "Rows with a power of less than 50: 46164, or 13.04% of the dataset\n"
     ]
    }
   ],
   "source": [
    "# How many rows have a power of less than 50?\n",
    "print(f\"Rows with a power of less than 50: {df[df['Power'] < 50].shape[0]}, or {df[df['Power'] < 50].shape[0]/len(df)*100:.2f}% of the dataset\")"
   ]
  },
  {
   "cell_type": "code",
   "execution_count": 24,
   "metadata": {},
   "outputs": [
    {
     "name": "stdout",
     "output_type": "stream",
     "text": [
      "Rows with a power greater than 600: 384, or 0.13% of the dataset\n"
     ]
    }
   ],
   "source": [
    "# How many rows have a power of greater than 600?\n",
    "print(f\"Rows with a power greater than 600: {df[df['Power'] > 600].shape[0]}, or {df[df['Power'] > 500].shape[0]/len(df)*100:.2f}% of the dataset\")"
   ]
  },
  {
   "cell_type": "markdown",
   "metadata": {},
   "source": [
    "Obviously this is a lot of data that we don't want to lose. Let's start by making a filtered df containing only horsepower values within the range (50, 600). Then calculate the average horsepower per brand, model, fueltype combination - I believe these three categories are most indicative of horsepower. "
   ]
  },
  {
   "cell_type": "code",
   "execution_count": 25,
   "metadata": {},
   "outputs": [],
   "source": [
    "def clean_power_column():\n",
    "    # Create a filtered df where Power is between 50 and 600, I don't want the outliers to affect the mean\n",
    "    filtered_df = df[(df['Power'] >= 50) & (df['Power'] <= 600)]\n",
    "    \n",
    "    # Calculate the mean power (as int) grouped by Brand, Model, FuelType\n",
    "    mean_power_df = filtered_df.groupby(['Brand', 'Model', 'FuelType'])['Power'].mean().round(0).astype(int).reset_index()\n",
    "    \n",
    "    # Merge the mean power column with the original df\n",
    "    merged_df = pd.merge(df, mean_power_df, on=['Brand', 'Model', 'FuelType'], suffixes=('', '_mean'))\n",
    "    \n",
    "    # Apply a lambda function to fill values less than 50 and greater than 600 with the mean power\n",
    "    merged_df['Power'] = merged_df.apply(lambda x: x['Power_mean'] if x['Power'] < 50 or x['Power'] > 600 else x['Power'], axis=1)\n",
    "    \n",
    "    # Drop the mean power column\n",
    "    merged_df.drop('Power_mean', axis=1, inplace=True)\n",
    "    \n",
    "    return merged_df\n",
    "\n",
    "df = clean_power_column()"
   ]
  },
  {
   "cell_type": "code",
   "execution_count": 26,
   "metadata": {},
   "outputs": [
    {
     "name": "stdout",
     "output_type": "stream",
     "text": [
      "count    321102.000000\n",
      "mean        120.759846\n",
      "std          52.182358\n",
      "min          50.000000\n",
      "25%          79.000000\n",
      "50%         111.000000\n",
      "75%         150.000000\n",
      "max         600.000000\n",
      "Name: Power, dtype: float64\n"
     ]
    }
   ],
   "source": [
    "# Describe the Power column again after cleaning\n",
    "print(df['Power'].describe())"
   ]
  },
  {
   "cell_type": "code",
   "execution_count": 27,
   "metadata": {},
   "outputs": [
    {
     "data": {
      "text/plain": [
       "Text(0.5, 1.0, 'Horsepower Distribution')"
      ]
     },
     "execution_count": 27,
     "metadata": {},
     "output_type": "execute_result"
    },
    {
     "data": {
      "image/png": "[encoded data removed]",
      "text/plain": [
       "<Figure size 600x400 with 1 Axes>"
      ]
     },
     "metadata": {},
     "output_type": "display_data"
    }
   ],
   "source": [
    "# Let's look at the distribution of the Power column\n",
    "plt.figure(figsize=(6, 4))\n",
    "sns.histplot(df['Power'], bins=50)\n",
    "plt.title('Horsepower Distribution')"
   ]
  },
  {
   "cell_type": "markdown",
   "metadata": {},
   "source": [
    "This is a much more plausible range for horsepower."
   ]
  },
  {
   "cell_type": "markdown",
   "metadata": {},
   "source": [
    "### Milage Column"
   ]
  },
  {
   "cell_type": "code",
   "execution_count": 28,
   "metadata": {},
   "outputs": [
    {
     "name": "stdout",
     "output_type": "stream",
     "text": [
      "Missing values in the Mileage column: 0, or 0.00% of the dataset\n",
      "count    321102.000000\n",
      "mean     128436.945270\n",
      "std       37051.416631\n",
      "min        5000.000000\n",
      "25%      125000.000000\n",
      "50%      150000.000000\n",
      "75%      150000.000000\n",
      "max      150000.000000\n",
      "Name: Mileage, dtype: float64\n"
     ]
    }
   ],
   "source": [
    "print_missing_values(df['Mileage'])\n",
    "print(df['Mileage'].describe())"
   ]
  },
  {
   "cell_type": "code",
   "execution_count": 29,
   "metadata": {},
   "outputs": [],
   "source": [
    "# Check if converting the Mileage column to int will result in any loss of data using np equal\n",
    "if np.array_equal(df['Mileage'], df['Mileage'].astype(int)):\n",
    "    # Convert the Mileage column to int\n",
    "    df['Mileage'] = df['Mileage'].astype(int)\n",
    "else:\n",
    "    raise ValueError('Conversion to int will result in data loss')"
   ]
  },
  {
   "cell_type": "code",
   "execution_count": 30,
   "metadata": {},
   "outputs": [
    {
     "data": {
      "image/png": "[encoded data removed]",
      "text/plain": [
       "<Figure size 600x400 with 1 Axes>"
      ]
     },
     "metadata": {},
     "output_type": "display_data"
    },
    {
     "data": {
      "image/png": "[encoded data removed]",
      "text/plain": [
       "<Figure size 600x400 with 1 Axes>"
      ]
     },
     "metadata": {},
     "output_type": "display_data"
    }
   ],
   "source": [
    "# Plot the distribution of the Mileage column\n",
    "plt.figure(figsize=(6, 4))\n",
    "sns.histplot(df['Mileage'], bins=8)\n",
    "plt.title('Mileage Distribution')\n",
    "plt.show()\n",
    "\n",
    "# Boxplot of Mileage\n",
    "plt.figure(figsize=(6, 4))\n",
    "sns.boxplot(y='Mileage', data=df)\n",
    "plt.title('Mileage Boxplot')\n",
    "plt.show()"
   ]
  },
  {
   "cell_type": "markdown",
   "metadata": {},
   "source": [
    "There are no missing values or extreme outliers in the `Mileage` column. The distribution is heavily left skewed, with the majority of the data near the max value. This makes sense considering our data source (used cars), but we may need to do some balancing when it comes time to train our models."
   ]
  },
  {
   "cell_type": "markdown",
   "metadata": {},
   "source": [
    "### Fuel Type Column"
   ]
  },
  {
   "cell_type": "code",
   "execution_count": 31,
   "metadata": {},
   "outputs": [
    {
     "name": "stdout",
     "output_type": "stream",
     "text": [
      "Missing values in the FuelType column: 0, or 0.00% of the dataset\n",
      "FuelType\n",
      "petrol      216160\n",
      "gasoline     98644\n",
      "lpg           5301\n",
      "cng            556\n",
      "hybrid         226\n",
      "other          129\n",
      "electric        86\n",
      "Name: count, dtype: int64\n"
     ]
    }
   ],
   "source": [
    "print_missing_values(df['FuelType'])\n",
    "print(df['FuelType'].value_counts())"
   ]
  },
  {
   "cell_type": "markdown",
   "metadata": {},
   "source": [
    "No missing values in `FuelType` and we see a plausible value counts."
   ]
  },
  {
   "cell_type": "markdown",
   "metadata": {},
   "source": [
    "### Not Repaired Column"
   ]
  },
  {
   "cell_type": "code",
   "execution_count": 32,
   "metadata": {},
   "outputs": [
    {
     "name": "stdout",
     "output_type": "stream",
     "text": [
      "Missing values in the NotRepaired column: 54517, or 16.98% of the dataset\n",
      "NotRepaired\n",
      "no     234486\n",
      "yes     32099\n",
      "Name: count, dtype: int64\n"
     ]
    }
   ],
   "source": [
    "print_missing_values(df['NotRepaired'])\n",
    "print(df['NotRepaired'].value_counts())"
   ]
  },
  {
   "cell_type": "code",
   "execution_count": 33,
   "metadata": {},
   "outputs": [
    {
     "name": "stdout",
     "output_type": "stream",
     "text": [
      "Missing values in the RepairedStatus column: 0, or 0.00% of the dataset\n",
      "RepairedStatus\n",
      "no         234486\n",
      "unknown     54517\n",
      "yes         32099\n",
      "Name: count, dtype: int64\n"
     ]
    }
   ],
   "source": [
    "# There is no reliable way to fill the missing values in the NotRepaired column, so we will fill them with 'unknown'\n",
    "df['NotRepaired'].fillna('unknown', inplace=True)\n",
    "\n",
    "# I also find this column  name to be a bit confusing, so I will rename it to 'RepairedStatus'\n",
    "df.rename(columns={'NotRepaired': 'RepairedStatus'}, inplace=True)\n",
    "\n",
    "print_missing_values(df['RepairedStatus'])\n",
    "print(df['RepairedStatus'].value_counts())"
   ]
  },
  {
   "cell_type": "markdown",
   "metadata": {},
   "source": [
    "### Registration Month Column"
   ]
  },
  {
   "cell_type": "code",
   "execution_count": 34,
   "metadata": {},
   "outputs": [
    {
     "name": "stdout",
     "output_type": "stream",
     "text": [
      "Missing values in the RegistrationMonth column: 0, or 0.00% of the dataset\n",
      "RegistrationMonth\n",
      "0     23681\n",
      "1     21666\n",
      "2     19986\n",
      "3     32460\n",
      "4     27451\n",
      "5     27170\n",
      "6     29379\n",
      "7     25544\n",
      "8     21183\n",
      "9     22465\n",
      "10    24616\n",
      "11    22793\n",
      "12    22708\n",
      "Name: count, dtype: int64\n",
      "\n",
      "Rows with a registration month of 0: 23681, or 7.37% of the dataset\n"
     ]
    }
   ],
   "source": [
    "print_missing_values(df['RegistrationMonth'])\n",
    "print(df['RegistrationMonth'].value_counts().sort_index())\n",
    "\n",
    "# Count and percentage of rows with a registration month of 0\n",
    "print()\n",
    "print(f\"Rows with a registration month of 0: {df[df['RegistrationMonth'] == 0].shape[0]}, or {df[df['RegistrationMonth'] == 0].shape[0]/len(df)*100:.2f}% of the dataset\")"
   ]
  },
  {
   "cell_type": "markdown",
   "metadata": {},
   "source": [
    "Hmm... there are 13 month values...\n",
    "\n",
    "Management has advised that month 0 represents unknown month. We don't want to drop these rows however because they are too large a portion of the dataset.  \n",
    "\n",
    "Instead we will convert 0 to 'unknown' and treat the entire column as categorical."
   ]
  },
  {
   "cell_type": "code",
   "execution_count": 35,
   "metadata": {},
   "outputs": [
    {
     "name": "stdout",
     "output_type": "stream",
     "text": [
      "RegistrationMonth\n",
      "3          32460\n",
      "6          29379\n",
      "4          27451\n",
      "5          27170\n",
      "7          25544\n",
      "10         24616\n",
      "unknown    23681\n",
      "11         22793\n",
      "12         22708\n",
      "9          22465\n",
      "1          21666\n",
      "8          21183\n",
      "2          19986\n",
      "Name: count, dtype: int64\n"
     ]
    }
   ],
   "source": [
    "# Convert to string\n",
    "df['RegistrationMonth'] = df['RegistrationMonth'].astype(str)\n",
    "\n",
    "# Replace 0 with 'unknown'\n",
    "df['RegistrationMonth'].replace('0', 'unknown', inplace=True)\n",
    "\n",
    "# Make type categorical\n",
    "df['RegistrationMonth'] = df['RegistrationMonth'].astype('category')\n",
    "\n",
    "# Value counts\n",
    "print(df['RegistrationMonth'].value_counts())"
   ]
  },
  {
   "cell_type": "markdown",
   "metadata": {},
   "source": [
    "### Registration Year Column"
   ]
  },
  {
   "cell_type": "code",
   "execution_count": 36,
   "metadata": {},
   "outputs": [
    {
     "name": "stdout",
     "output_type": "stream",
     "text": [
      "Missing values in the RegistrationYear column: 0, or 0.00% of the dataset\n",
      "count    321102.000000\n",
      "mean       2003.307046\n",
      "std          40.890967\n",
      "min        1000.000000\n",
      "25%        1999.000000\n",
      "50%        2003.000000\n",
      "75%        2007.000000\n",
      "max        9999.000000\n",
      "Name: RegistrationYear, dtype: float64\n"
     ]
    }
   ],
   "source": [
    "print_missing_values(df['RegistrationYear'])\n",
    "print(df['RegistrationYear'].describe())"
   ]
  },
  {
   "cell_type": "code",
   "execution_count": 37,
   "metadata": {},
   "outputs": [],
   "source": [
    "# Check if converting the RegistrationYear column to int will result in any loss of data using np equal\n",
    "if np.array_equal(df['RegistrationYear'], df['RegistrationYear'].astype(int)):\n",
    "    # Convert the RegistrationYear column to int\n",
    "    df['RegistrationYear'] = df['RegistrationYear'].astype(int)\n",
    "else:\n",
    "    raise ValueError('Conversion to int will result in data loss')"
   ]
  },
  {
   "cell_type": "markdown",
   "metadata": {},
   "source": [
    "I know I will drop the min and max values since they are impossible, but lets investigate to see if we can find a plausible minimum value."
   ]
  },
  {
   "cell_type": "code",
   "execution_count": 38,
   "metadata": {},
   "outputs": [
    {
     "data": {
      "image/png": "[encoded data removed]",
      "text/plain": [
       "<Figure size 600x400 with 1 Axes>"
      ]
     },
     "metadata": {},
     "output_type": "display_data"
    }
   ],
   "source": [
    "# Plot the distribution of the RegistrationYear column with adjustable range\n",
    "def plot_registration_year_distribution(min_year, max_year):\n",
    "    plt.figure(figsize=(6, 4))\n",
    "    sns.histplot(df['RegistrationYear'][(df['RegistrationYear'] <= max_year) & (df['RegistrationYear'] > min_year)], bins=max_year-min_year, discrete=True)\n",
    "    # Keep the x-axis in ints and label\n",
    "    plt.locator_params(axis='x', integer=True)\n",
    "    # Set the x-axis range\n",
    "    plt.xlim(min_year, max_year)\n",
    "\n",
    "    plt.title('Registration Year Distribution')\n",
    "\n",
    "    plt.show()\n",
    "    \n",
    "plot_registration_year_distribution(1900, 1980)"
   ]
  },
  {
   "cell_type": "code",
   "execution_count": 39,
   "metadata": {},
   "outputs": [
    {
     "name": "stdout",
     "output_type": "stream",
     "text": [
      "Rows with a registration year below 1960: 257, or 0.08% of the dataset\n"
     ]
    }
   ],
   "source": [
    "# What percent of the data is below 1960?\n",
    "print(f\"Rows with a registration year below 1960: {df[df['RegistrationYear'] < 1960].shape[0]}, or {df[df['RegistrationYear'] < 1960].shape[0]/len(df)*100:.2f}% of the dataset\")"
   ]
  },
  {
   "cell_type": "markdown",
   "metadata": {},
   "source": [
    "There is a small percentage of the data that falls below 1960. I am also considering the unlikelihood of such sales happening, and the change in value of money. For these reasons I feel comfortable dropping any records with a registration date less than 1960."
   ]
  },
  {
   "cell_type": "code",
   "execution_count": 40,
   "metadata": {},
   "outputs": [],
   "source": [
    "# Drop rows with a registration year below 1960\n",
    "df = df[df['RegistrationYear'] >= 1960]"
   ]
  },
  {
   "cell_type": "code",
   "execution_count": 41,
   "metadata": {},
   "outputs": [
    {
     "data": {
      "image/png": "[encoded data removed]",
      "text/plain": [
       "<Figure size 600x400 with 1 Axes>"
      ]
     },
     "metadata": {},
     "output_type": "display_data"
    }
   ],
   "source": [
    "# It should be easier to find the upper limit of plausible registration years\n",
    "plot_registration_year_distribution(2010, 2022)"
   ]
  },
  {
   "cell_type": "code",
   "execution_count": 42,
   "metadata": {},
   "outputs": [
    {
     "name": "stdout",
     "output_type": "stream",
     "text": [
      "Rows with a registration year of 2019: 14, or 0.00% of the dataset\n"
     ]
    }
   ],
   "source": [
    "# Get the count and percentage of rows with 2019 registration year\n",
    "print(f\"Rows with a registration year of 2019: {df[df['RegistrationYear'] == 2019].shape[0]}, or {df[df['RegistrationYear'] == 2019].shape[0]/len(df)*100:.2f}% of the dataset\")"
   ]
  },
  {
   "cell_type": "markdown",
   "metadata": {},
   "source": [
    "It looks like the data collection ended in 2019, but with very few records. Let's drop everything after 2018."
   ]
  },
  {
   "cell_type": "code",
   "execution_count": 43,
   "metadata": {},
   "outputs": [
    {
     "name": "stdout",
     "output_type": "stream",
     "text": [
      "Missing values in the RegistrationYear column: 0, or 0.00% of the dataset\n"
     ]
    },
    {
     "data": {
      "image/png": "[encoded data removed]",
      "text/plain": [
       "<Figure size 600x400 with 1 Axes>"
      ]
     },
     "metadata": {},
     "output_type": "display_data"
    }
   ],
   "source": [
    "# Drop rows with a registration year of above 2018\n",
    "df = df[df['RegistrationYear'] <= 2018]\n",
    "\n",
    "print_missing_values(df['RegistrationYear'])\n",
    "\n",
    "# Plot the distribution of the RegistrationYear column after cleaning\n",
    "plot_registration_year_distribution(df['RegistrationYear'].min(), df['RegistrationYear'].max())\n",
    "\n"
   ]
  },
  {
   "cell_type": "markdown",
   "metadata": {},
   "source": [
    "Column has been cleaned for model training.\n",
    "\n",
    "There is an interesting shape to this graph with respect to the dip in sales of cars registered 2010 - 2015, then a sudden jump in 2016 and 2017. It would makes sense that you see less and less sales of newer used cars, but why the jump in 2016 and 2017? \n",
    "\n",
    "Interesting question to ask, not sure it has any bearing on the task at hand."
   ]
  },
  {
   "cell_type": "markdown",
   "metadata": {},
   "source": [
    "### Postal Code Column"
   ]
  },
  {
   "cell_type": "code",
   "execution_count": 44,
   "metadata": {},
   "outputs": [
    {
     "name": "stdout",
     "output_type": "stream",
     "text": [
      "Missing values in the PostalCode column: 0, or 0.00% of the dataset\n",
      "int64\n"
     ]
    }
   ],
   "source": [
    "print_missing_values(df['PostalCode'])\n",
    "\n",
    "print(df['PostalCode'].dtype)"
   ]
  },
  {
   "cell_type": "markdown",
   "metadata": {},
   "source": [
    "<div class=\"alert alert-info\"> \n",
    "I am at a bit of a cross roads here. On one hand, I can see how using postal codes might cross an ethical line - though, I'm not sure  I could articulate exactly why. On the other hand, I see how postal code could be a valuable feature for price prediction.<br>\n",
    "\n",
    "First I will test to see if there is indeed a correlation between the postal code and the price.<br>\n",
    "\n",
    "We need to be sure to treat postal code as a categorical feature, and not a continuous one. In order the test the correlation of postal code to the price, we will use the [ANOVA TEST](https://docs.scipy.org/doc/scipy/reference/generated/scipy.stats.f_oneway.html) from the Scipy.Statistics library.\n",
    "\n",
    "<center><i>\"The one-way ANOVA tests the null hypothesis that two or more groups have the same population mean. The test is applied to samples from two or more groups, possibly with differing sizes.\"</i></center>\n",
    "\n",
    "<b>QUESTION FOR REVIEWER:</b> What is your advice for using or not using postal codes in this project if it were a real life scenario? Specifically with regards to ethics and data privacy? \n",
    "</div>"
   ]
  },
  {
   "cell_type": "markdown",
   "metadata": {},
   "source": [
    "Using the full postal code results in over 8,000 unique values, which makes our training data too large the compute available to us for this project. So we will group the postal codes by their first two digits and test for a correlation."
   ]
  },
  {
   "cell_type": "code",
   "execution_count": 45,
   "metadata": {},
   "outputs": [],
   "source": [
    "# Convert the PostalCode column to string\n",
    "df['PostalCode'] = df['PostalCode'].astype(str)\n",
    "\n",
    "# Keep only the first two characters of the postal code\n",
    "df['PostalCode'] = df['PostalCode'].str[:2]"
   ]
  },
  {
   "cell_type": "code",
   "execution_count": 46,
   "metadata": {},
   "outputs": [
    {
     "name": "stdout",
     "output_type": "stream",
     "text": [
      "F-statistic: 46.66066153614419, p-value: 0.0\n",
      "Reject the null hypothesis that the means are equal. There is a significant difference between the average prices.\n",
      "\n",
      "Sample summary statistics for price by postal code:\n"
     ]
    },
    {
     "data": {
      "text/html": [
       "<div>\n",
       "<style scoped>\n",
       "    .dataframe tbody tr th:only-of-type {\n",
       "        vertical-align: middle;\n",
       "    }\n",
       "\n",
       "    .dataframe tbody tr th {\n",
       "        vertical-align: top;\n",
       "    }\n",
       "\n",
       "    .dataframe thead th {\n",
       "        text-align: right;\n",
       "    }\n",
       "</style>\n",
       "<table border=\"1\" class=\"dataframe\">\n",
       "  <thead>\n",
       "    <tr style=\"text-align: right;\">\n",
       "      <th></th>\n",
       "      <th>median</th>\n",
       "      <th>mean</th>\n",
       "      <th>std</th>\n",
       "      <th>count</th>\n",
       "    </tr>\n",
       "    <tr>\n",
       "      <th>PostalCode</th>\n",
       "      <th></th>\n",
       "      <th></th>\n",
       "      <th></th>\n",
       "      <th></th>\n",
       "    </tr>\n",
       "  </thead>\n",
       "  <tbody>\n",
       "    <tr>\n",
       "      <th>47</th>\n",
       "      <td>2650.0</td>\n",
       "      <td>4222.855534</td>\n",
       "      <td>4295.817707</td>\n",
       "      <td>5593</td>\n",
       "    </tr>\n",
       "    <tr>\n",
       "      <th>30</th>\n",
       "      <td>3000.0</td>\n",
       "      <td>4778.216094</td>\n",
       "      <td>4606.956234</td>\n",
       "      <td>4188</td>\n",
       "    </tr>\n",
       "    <tr>\n",
       "      <th>88</th>\n",
       "      <td>3000.0</td>\n",
       "      <td>4743.071547</td>\n",
       "      <td>4609.944411</td>\n",
       "      <td>3620</td>\n",
       "    </tr>\n",
       "    <tr>\n",
       "      <th>38</th>\n",
       "      <td>3250.0</td>\n",
       "      <td>5267.419614</td>\n",
       "      <td>5186.911547</td>\n",
       "      <td>4976</td>\n",
       "    </tr>\n",
       "    <tr>\n",
       "      <th>40</th>\n",
       "      <td>2999.0</td>\n",
       "      <td>4754.516748</td>\n",
       "      <td>4506.551950</td>\n",
       "      <td>3284</td>\n",
       "    </tr>\n",
       "  </tbody>\n",
       "</table>\n",
       "</div>"
      ],
      "text/plain": [
       "            median         mean          std  count\n",
       "PostalCode                                         \n",
       "47          2650.0  4222.855534  4295.817707   5593\n",
       "30          3000.0  4778.216094  4606.956234   4188\n",
       "88          3000.0  4743.071547  4609.944411   3620\n",
       "38          3250.0  5267.419614  5186.911547   4976\n",
       "40          2999.0  4754.516748  4506.551950   3284"
      ]
     },
     "metadata": {},
     "output_type": "display_data"
    },
    {
     "data": {
      "image/png": "[encoded data removed]",
      "text/plain": [
       "<Figure size 600x400 with 1 Axes>"
      ]
     },
     "metadata": {},
     "output_type": "display_data"
    }
   ],
   "source": [
    "def test_postcode_for_correlation(df):\n",
    "\n",
    "    # Group data by postal codes and extract lists of prices\n",
    "    grouped_prices = df.groupby('PostalCode')['Price']\n",
    "    grouped_prices_list = grouped_prices.apply(list).tolist()\n",
    "     \n",
    "    # Perform the ANOVA test\n",
    "    f_statistic, p_value = f_oneway(*grouped_prices_list)\n",
    "    \n",
    "    print(f'F-statistic: {f_statistic}, p-value: {p_value}')\n",
    "    \n",
    "    alpha = 0.05\n",
    "    if p_value < alpha:\n",
    "        print('Reject the null hypothesis that the means are equal. There is a significant difference between the average prices.')\n",
    "    else:\n",
    "        print('Fail to reject the null hypothesis that the means are equal.')\n",
    "        \n",
    "    # Calculate summary statistics for price by postal code\n",
    "    summary_stats = df.groupby('PostalCode')['Price'].agg(['median', 'mean', 'std', 'count'])\n",
    "    print(\"\\nSample summary statistics for price by postal code:\")\n",
    "    display(summary_stats.sample(5))\n",
    "    \n",
    "    # Plot histogram of median prices\n",
    "    plt.figure(figsize=(6, 4))\n",
    "    plt.hist(summary_stats['median'], bins=25, edgecolor='k', alpha=0.7)\n",
    "    plt.title('Distribution of Median Prices Across Postal Codes')\n",
    "    plt.xlabel('Median Price')\n",
    "    plt.ylabel('Frequency')\n",
    "    plt.show()\n",
    "\n",
    "        \n",
    "# Call the function\n",
    "test_postcode_for_correlation(df)"
   ]
  },
  {
   "cell_type": "markdown",
   "metadata": {},
   "source": [
    "It looks like `PostalCode` has a pretty strong correlation with `Price`. We will convert it to an object type (categorical) and use it for training. Once we find our best model, we can also retrain without the postal code and reassess."
   ]
  },
  {
   "cell_type": "code",
   "execution_count": 47,
   "metadata": {},
   "outputs": [],
   "source": [
    "# We already know there are no non-numeric characters in the PostalCode column because it was originally an int column\n",
    "\n",
    "# Make column categorical\n",
    "df['PostalCode'] = df['PostalCode'].astype('category')"
   ]
  },
  {
   "cell_type": "markdown",
   "metadata": {},
   "source": [
    "Even still the features require too much compute. We will drop the PostalCode Column"
   ]
  },
  {
   "cell_type": "code",
   "execution_count": 48,
   "metadata": {},
   "outputs": [],
   "source": [
    "# Drop PostalCode column\n",
    "df.drop('PostalCode', axis=1, inplace=True)"
   ]
  },
  {
   "cell_type": "markdown",
   "metadata": {},
   "source": [
    "### Number of Pictures Column:"
   ]
  },
  {
   "cell_type": "code",
   "execution_count": 49,
   "metadata": {},
   "outputs": [
    {
     "name": "stdout",
     "output_type": "stream",
     "text": [
      "Missing values in the NumberOfPictures column: 0, or 0.00% of the dataset\n",
      "NumberOfPictures\n",
      "0    320803\n",
      "Name: count, dtype: int64\n"
     ]
    }
   ],
   "source": [
    "print_missing_values(df['NumberOfPictures'])\n",
    "print(df['NumberOfPictures'].value_counts())"
   ]
  },
  {
   "cell_type": "markdown",
   "metadata": {},
   "source": [
    "Since this column only has the value zero for every row, this is not a valuable column for building a machine learning model. We will drop it."
   ]
  },
  {
   "cell_type": "code",
   "execution_count": 50,
   "metadata": {},
   "outputs": [],
   "source": [
    "df.drop('NumberOfPictures', axis=1, inplace=True)"
   ]
  },
  {
   "cell_type": "markdown",
   "metadata": {},
   "source": [
    "### Price Column"
   ]
  },
  {
   "cell_type": "code",
   "execution_count": 51,
   "metadata": {},
   "outputs": [
    {
     "name": "stdout",
     "output_type": "stream",
     "text": [
      "Missing values in the Price column: 0, or 0.00% of the dataset\n",
      "count    320803.000000\n",
      "mean       4627.835656\n",
      "std        4567.486102\n",
      "min           0.000000\n",
      "25%        1200.000000\n",
      "50%        2950.000000\n",
      "75%        6700.000000\n",
      "max       20000.000000\n",
      "Name: Price, dtype: float64\n"
     ]
    }
   ],
   "source": [
    "print_missing_values(df['Price'])\n",
    "print(df['Price'].describe())"
   ]
  },
  {
   "cell_type": "code",
   "execution_count": 52,
   "metadata": {},
   "outputs": [
    {
     "name": "stdout",
     "output_type": "stream",
     "text": [
      "Price\n",
      "0      7284\n",
      "1       735\n",
      "2         9\n",
      "3         5\n",
      "5        10\n",
      "       ... \n",
      "489       3\n",
      "490     193\n",
      "495      11\n",
      "498       4\n",
      "499     535\n",
      "Name: count, Length: 243, dtype: int64\n"
     ]
    }
   ],
   "source": [
    "print(df['Price'][df['Price'] < 500].value_counts().sort_index())"
   ]
  },
  {
   "cell_type": "code",
   "execution_count": 53,
   "metadata": {},
   "outputs": [
    {
     "data": {
      "image/png": "[encoded data removed]",
      "text/plain": [
       "<Figure size 600x400 with 1 Axes>"
      ]
     },
     "metadata": {},
     "output_type": "display_data"
    }
   ],
   "source": [
    "# Plot the distribution of the Price column\n",
    "plt.figure(figsize=(6, 4))\n",
    "sns.histplot(df['Price'], bins=50)\n",
    "plt.title('Price Distribution')\n",
    "plt.show()"
   ]
  },
  {
   "cell_type": "markdown",
   "metadata": {},
   "source": [
    "There is a significant right skew to this graph, but that seems to make sense in regard to used car prices. The large amount of prices at or near zero concerns me a little bit, but it is certainly possible that many vehicles had zero value. we won't make any adjustments to the data here."
   ]
  },
  {
   "cell_type": "code",
   "execution_count": 54,
   "metadata": {},
   "outputs": [],
   "source": [
    "# Check if converting the Price column to int will result in any loss of data using np equal\n",
    "if np.array_equal(df['Price'], df['Price'].astype(int)):\n",
    "    # Convert the Price column to int\n",
    "    df['Price'] = df['Price'].astype(int)\n",
    "else:\n",
    "    raise ValueError('Conversion to int will result in data loss')"
   ]
  },
  {
   "cell_type": "code",
   "execution_count": 55,
   "metadata": {},
   "outputs": [],
   "source": [
    "# Lets make all other object columns categorical for good measure\n",
    "for column in df.select_dtypes(include='object').columns:\n",
    "    df[column] = df[column].astype('category')"
   ]
  },
  {
   "cell_type": "code",
   "execution_count": 56,
   "metadata": {},
   "outputs": [
    {
     "name": "stdout",
     "output_type": "stream",
     "text": [
      "<class 'pandas.core.frame.DataFrame'>\n",
      "Index: 320803 entries, 0 to 321101\n",
      "Data columns (total 11 columns):\n",
      " #   Column             Non-Null Count   Dtype   \n",
      "---  ------             --------------   -----   \n",
      " 0   Brand              320803 non-null  category\n",
      " 1   Model              320803 non-null  category\n",
      " 2   VehicleType        320803 non-null  category\n",
      " 3   Gearbox            320803 non-null  category\n",
      " 4   Power              320803 non-null  int64   \n",
      " 5   Mileage            320803 non-null  int64   \n",
      " 6   FuelType           320803 non-null  category\n",
      " 7   RepairedStatus     320803 non-null  category\n",
      " 8   RegistrationMonth  320803 non-null  category\n",
      " 9   RegistrationYear   320803 non-null  int64   \n",
      " 10  Price              320803 non-null  int64   \n",
      "dtypes: category(7), int64(4)\n",
      "memory usage: 14.7 MB\n"
     ]
    }
   ],
   "source": [
    "df.info()"
   ]
  },
  {
   "cell_type": "code",
   "execution_count": 57,
   "metadata": {},
   "outputs": [
    {
     "name": "stdout",
     "output_type": "stream",
     "text": [
      "Brand: 40 unique values\n",
      "\n",
      "Model: 249 unique values\n",
      "\n",
      "VehicleType: 8 unique values\n",
      "\n",
      "Gearbox: 3 unique values\n",
      "\n",
      "FuelType: 7 unique values\n",
      "\n",
      "RepairedStatus: 3 unique values\n",
      "\n",
      "RegistrationMonth: 13 unique values\n",
      "\n"
     ]
    }
   ],
   "source": [
    "# Get unigue values counts for all categorical columns\n",
    "for column in df.select_dtypes(include='category').columns:\n",
    "    print(f'{column}: {df[column].nunique()} unique values')\n",
    "    print()"
   ]
  },
  {
   "cell_type": "markdown",
   "metadata": {},
   "source": [
    "## Model training"
   ]
  },
  {
   "cell_type": "code",
   "execution_count": 58,
   "metadata": {},
   "outputs": [],
   "source": [
    "# Build a df to hold evaluation metrics for each model\n",
    "results_df = pd.DataFrame(columns=['Description', 'RMSE','TrainTime_ms','PredictTime_ms'])"
   ]
  },
  {
   "cell_type": "markdown",
   "metadata": {},
   "source": [
    "### Linear Regression Model - Sanity Check"
   ]
  },
  {
   "cell_type": "code",
   "execution_count": 59,
   "metadata": {},
   "outputs": [],
   "source": [
    "# ### Prepare the data for training ###\n",
    "# # One hot encode the categorical columns\n",
    "# df_encoded = pd.get_dummies(df, drop_first=True)\n",
    "\n",
    "# # Split into features and target\n",
    "# X_encoded = df_encoded.drop('Price', axis=1)\n",
    "# y_encoded = df_encoded['Price']\n",
    "\n",
    "# # Define a random state for splitting the data\n",
    "# state = 123456\n",
    "\n",
    "# # Split the data into training and testing sets (60/40)\n",
    "# X_encoded_train, X_encoded_test, y_encoded_train, y_encoded_test = train_test_split(X_encoded, y_encoded, test_size=0.4, random_state=state)\n",
    "# # Split the test data into validation and testing sets (50/50)\n",
    "# X_encoded_valid, X_encoded_test, y_encoded_valid, y_encoded_test = train_test_split(X_encoded_test, y_encoded_test, test_size=0.5, random_state=state)\n",
    "\n",
    "# ## Scale the data ##\n",
    "# scaler = StandardScaler()\n",
    "\n",
    "# # Fit the scaler on the training data\n",
    "# X_encoded_train = scaler.fit_transform(X_encoded_train)\n",
    "\n",
    "# # Transform the validation and test data\n",
    "# X_encoded_valid = scaler.transform(X_encoded_valid)\n",
    "# X_encoded_test = scaler.transform(X_encoded_test)\n",
    "\n",
    "# # Print the shapes of the training, validation, and test sets\n",
    "# print(f\"Training features shape: {X_encoded_train.shape}\")\n",
    "# print(f\"Training target shape: {y_encoded_train.shape}\")\n",
    "# print(f\"Validation features shape: {X_encoded_valid.shape}\")\n",
    "# print(f\"Validation target shape: {y_encoded_valid.shape}\")\n",
    "# print(f\"Testing features shape: {X_encoded_test.shape}\")\n",
    "# print(f\"Testing target shape: {y_encoded_test.shape}\")"
   ]
  },
  {
   "cell_type": "code",
   "execution_count": 60,
   "metadata": {},
   "outputs": [
    {
     "name": "stdout",
     "output_type": "stream",
     "text": [
      "Training features shape: (192481, 319)\n",
      "Training target shape: (192481,)\n",
      "Validation features shape: (64161, 319)\n",
      "Validation target shape: (64161,)\n",
      "Testing features shape: (64161, 319)\n",
      "Testing target shape: (64161,)\n"
     ]
    }
   ],
   "source": [
    "def prep_for_lr(df):\n",
    "    \n",
    "    ### Prepare the data for training ###\n",
    "    # One hot encode the categorical columns\n",
    "    df_encoded = pd.get_dummies(df, drop_first=True)\n",
    "\n",
    "    # Split into features and target\n",
    "    X_encoded = df_encoded.drop('Price', axis=1)\n",
    "    y_encoded = df_encoded['Price']\n",
    "\n",
    "    # Define a random state for splitting the data\n",
    "    state = 123456\n",
    "\n",
    "    # Split the data into training and testing sets (60/40)\n",
    "    X_encoded_train, X_encoded_test, y_encoded_train, y_encoded_test = train_test_split(X_encoded, y_encoded, test_size=0.4, random_state=state)\n",
    "    # Split the test data into validation and testing sets (50/50)\n",
    "    X_encoded_valid, X_encoded_test, y_encoded_valid, y_encoded_test = train_test_split(X_encoded_test, y_encoded_test, test_size=0.5, random_state=state)\n",
    "\n",
    "    ## Scale the data ##\n",
    "    scaler = StandardScaler()\n",
    "\n",
    "    # Fit the scaler on the training data\n",
    "    X_encoded_train = scaler.fit_transform(X_encoded_train)\n",
    "\n",
    "    # Transform the validation and test data\n",
    "    X_encoded_valid = scaler.transform(X_encoded_valid)\n",
    "    X_encoded_test = scaler.transform(X_encoded_test)\n",
    "\n",
    "    # Print the shapes of the training, validation, and test sets\n",
    "    print(f\"Training features shape: {X_encoded_train.shape}\")\n",
    "    print(f\"Training target shape: {y_encoded_train.shape}\")\n",
    "    print(f\"Validation features shape: {X_encoded_valid.shape}\")\n",
    "    print(f\"Validation target shape: {y_encoded_valid.shape}\")\n",
    "    print(f\"Testing features shape: {X_encoded_test.shape}\")\n",
    "    print(f\"Testing target shape: {y_encoded_test.shape}\")\n",
    "    \n",
    "    return X_encoded_train, X_encoded_valid, X_encoded_test, y_encoded_train, y_encoded_valid, y_encoded_test\n",
    "    \n",
    "X_encoded_train, X_encoded_valid, X_encoded_test, y_encoded_train, y_encoded_valid, y_encoded_test = prep_for_lr(df)"
   ]
  },
  {
   "cell_type": "code",
   "execution_count": 61,
   "metadata": {},
   "outputs": [],
   "source": [
    "gc.collect()\n",
    "\n",
    "model = LinearRegression()"
   ]
  },
  {
   "cell_type": "code",
   "execution_count": 62,
   "metadata": {},
   "outputs": [
    {
     "name": "stdout",
     "output_type": "stream",
     "text": [
      "CPU times: user 15.6 s, sys: 894 ms, total: 16.5 s\n",
      "Wall time: 2.98 s\n"
     ]
    }
   ],
   "source": [
    "%%time\n",
    "# Fit the model on the training data\n",
    "model.fit(X_encoded_train, y_encoded_train);"
   ]
  },
  {
   "cell_type": "code",
   "execution_count": 63,
   "metadata": {},
   "outputs": [],
   "source": [
    "# Save the training time\n",
    "train_time = 3.47 * 1000 # in ms"
   ]
  },
  {
   "cell_type": "code",
   "execution_count": 64,
   "metadata": {},
   "outputs": [
    {
     "name": "stdout",
     "output_type": "stream",
     "text": [
      "CPU times: user 50.4 ms, sys: 19.9 ms, total: 70.2 ms\n",
      "Wall time: 10.7 ms\n"
     ]
    }
   ],
   "source": [
    "%%time\n",
    "# Make predictions on the validation data\n",
    "predictions = model.predict(X_encoded_valid)"
   ]
  },
  {
   "cell_type": "code",
   "execution_count": 65,
   "metadata": {},
   "outputs": [
    {
     "name": "stdout",
     "output_type": "stream",
     "text": [
      "RMSE: 2652.823284898957\n"
     ]
    }
   ],
   "source": [
    "# Save the prediction time\n",
    "predict_time = 28.5 \n",
    "\n",
    "# Calculate the RMSE\n",
    "rmse = mean_squared_error(y_encoded_valid, predictions, squared=False)\n",
    "\n",
    "print(f\"RMSE: {rmse}\")"
   ]
  },
  {
   "cell_type": "code",
   "execution_count": 66,
   "metadata": {},
   "outputs": [
    {
     "data": {
      "text/html": [
       "<div>\n",
       "<style scoped>\n",
       "    .dataframe tbody tr th:only-of-type {\n",
       "        vertical-align: middle;\n",
       "    }\n",
       "\n",
       "    .dataframe tbody tr th {\n",
       "        vertical-align: top;\n",
       "    }\n",
       "\n",
       "    .dataframe thead th {\n",
       "        text-align: right;\n",
       "    }\n",
       "</style>\n",
       "<table border=\"1\" class=\"dataframe\">\n",
       "  <thead>\n",
       "    <tr style=\"text-align: right;\">\n",
       "      <th></th>\n",
       "      <th>Description</th>\n",
       "      <th>RMSE</th>\n",
       "      <th>TrainTime_ms</th>\n",
       "      <th>PredictTime_ms</th>\n",
       "    </tr>\n",
       "  </thead>\n",
       "  <tbody>\n",
       "    <tr>\n",
       "      <th>0</th>\n",
       "      <td>Linear Regression (Sanity Check)</td>\n",
       "      <td>2652.823285</td>\n",
       "      <td>3470.0</td>\n",
       "      <td>28.5</td>\n",
       "    </tr>\n",
       "  </tbody>\n",
       "</table>\n",
       "</div>"
      ],
      "text/plain": [
       "                        Description         RMSE  TrainTime_ms  PredictTime_ms\n",
       "0  Linear Regression (Sanity Check)  2652.823285        3470.0            28.5"
      ]
     },
     "metadata": {},
     "output_type": "display_data"
    }
   ],
   "source": [
    "# Save the results to the results_df\n",
    "results_df = pd.concat([results_df, pd.DataFrame([['Linear Regression (Sanity Check)', rmse, train_time, predict_time]], columns=results_df.columns)], ignore_index=True)\n",
    "\n",
    "display(results_df)"
   ]
  },
  {
   "cell_type": "markdown",
   "metadata": {},
   "source": [
    "LR trains and predicts quickly but has a high RMSE score of $2652.82"
   ]
  },
  {
   "cell_type": "markdown",
   "metadata": {},
   "source": [
    "### Random Forrest"
   ]
  },
  {
   "cell_type": "code",
   "execution_count": 67,
   "metadata": {},
   "outputs": [],
   "source": [
    "def get_best_RF_params():\n",
    "    \n",
    "    # Define the params dict\n",
    "    params_dict = {'max_depth': [None] + list(range(1, 21)),\n",
    "                   'min_samples_split': list(range(2, 21)),\n",
    "                    'min_samples_leaf': list(range(1, 21)),\n",
    "                    'n_estimators': list(range(10, 20, 2))}\n",
    "    \n",
    "    # Initialize the model\n",
    "    model = RandomForestRegressor(random_state=123456)\n",
    "    \n",
    "    # Initialize the RandomizedSearchCV object\n",
    "    random_search = RandomizedSearchCV(model, param_distributions=params_dict, n_iter=10, scoring='neg_mean_squared_error', cv=3, random_state=123456)\n",
    "    \n",
    "    # Fit the random search object\n",
    "    random_search.fit(X_encoded_train, y_encoded_train)\n",
    "    \n",
    "    # Get the best parameters\n",
    "    best_params = random_search.best_params_\n",
    "    \n",
    "    print(f\"Best parameters: {best_params}\")\n",
    "    \n",
    "    return best_params"
   ]
  },
  {
   "cell_type": "code",
   "execution_count": 68,
   "metadata": {},
   "outputs": [
    {
     "name": "stdout",
     "output_type": "stream",
     "text": [
      "Best parameters: {'n_estimators': 16, 'min_samples_split': 6, 'min_samples_leaf': 4, 'max_depth': 19}\n"
     ]
    }
   ],
   "source": [
    "best_params = get_best_RF_params()"
   ]
  },
  {
   "cell_type": "code",
   "execution_count": 69,
   "metadata": {},
   "outputs": [
    {
     "name": "stdout",
     "output_type": "stream",
     "text": [
      "Best parameters: {'n_estimators': 16, 'min_samples_split': 6, 'min_samples_leaf': 4, 'max_depth': 19}\n"
     ]
    }
   ],
   "source": [
    "print(f\"Best parameters: {best_params}\")"
   ]
  },
  {
   "cell_type": "markdown",
   "metadata": {},
   "source": [
    "## Model analysis"
   ]
  },
  {
   "cell_type": "code",
   "execution_count": null,
   "metadata": {},
   "outputs": [],
   "source": []
  },
  {
   "cell_type": "markdown",
   "metadata": {},
   "source": [
    "# Checklist"
   ]
  },
  {
   "cell_type": "markdown",
   "metadata": {},
   "source": [
    "Type 'x' to check. Then press Shift+Enter."
   ]
  },
  {
   "cell_type": "markdown",
   "metadata": {},
   "source": [
    "- [x]  Jupyter Notebook is open\n",
    "- [ ]  Code is error free\n",
    "- [ ]  The cells with the code have been arranged in order of execution\n",
    "- [ ]  The data has been downloaded and prepared\n",
    "- [ ]  The models have been trained\n",
    "- [ ]  The analysis of speed and quality of the models has been performed"
   ]
  },
  {
   "cell_type": "code",
   "execution_count": null,
   "metadata": {},
   "outputs": [],
   "source": []
  }
 ],
 "metadata": {
  "kernelspec": {
   "display_name": "Python 3 (ipykernel)",
   "language": "python",
   "name": "python3"
  },
  "language_info": {
   "codemirror_mode": {
    "name": "ipython",
    "version": 3
   },
   "file_extension": ".py",
   "mimetype": "text/x-python",
   "name": "python",
   "nbconvert_exporter": "python",
   "pygments_lexer": "ipython3",
   "version": "3.10.12"
  },
  "toc": {
   "base_numbering": 1,
   "nav_menu": {},
   "number_sections": true,
   "sideBar": true,
   "skip_h1_title": true,
   "title_cell": "Table of Contents",
   "title_sidebar": "Contents",
   "toc_cell": false,
   "toc_position": {},
   "toc_section_display": true,
   "toc_window_display": false
  }
 },
 "nbformat": 4,
 "nbformat_minor": 2
}
